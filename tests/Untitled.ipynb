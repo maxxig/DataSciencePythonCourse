{
 "cells": [
  {
   "cell_type": "code",
   "execution_count": 4,
   "id": "87bfc334",
   "metadata": {},
   "outputs": [],
   "source": [
    "import pandas as pn\n",
    "import numpy as np\n"
   ]
  },
  {
   "cell_type": "code",
   "execution_count": 11,
   "id": "7e6d2e35",
   "metadata": {},
   "outputs": [],
   "source": [
    "df = pn.DataFrame(np.random.randint(1,101,35).reshape(5,7),['a','b','c','d','g'],['Russia','Usa','Ukraine','Germany','Italia','Kazahstan','Greece'])"
   ]
  },
  {
   "cell_type": "code",
   "execution_count": 12,
   "id": "c0902b0e",
   "metadata": {},
   "outputs": [
    {
     "data": {
      "text/html": [
       "<div>\n",
       "<style scoped>\n",
       "    .dataframe tbody tr th:only-of-type {\n",
       "        vertical-align: middle;\n",
       "    }\n",
       "\n",
       "    .dataframe tbody tr th {\n",
       "        vertical-align: top;\n",
       "    }\n",
       "\n",
       "    .dataframe thead th {\n",
       "        text-align: right;\n",
       "    }\n",
       "</style>\n",
       "<table border=\"1\" class=\"dataframe\">\n",
       "  <thead>\n",
       "    <tr style=\"text-align: right;\">\n",
       "      <th></th>\n",
       "      <th>Russia</th>\n",
       "      <th>Usa</th>\n",
       "      <th>Ukraine</th>\n",
       "      <th>Germany</th>\n",
       "      <th>Italia</th>\n",
       "      <th>Kazahstan</th>\n",
       "      <th>Greece</th>\n",
       "    </tr>\n",
       "  </thead>\n",
       "  <tbody>\n",
       "    <tr>\n",
       "      <th>a</th>\n",
       "      <td>73</td>\n",
       "      <td>97</td>\n",
       "      <td>60</td>\n",
       "      <td>75</td>\n",
       "      <td>17</td>\n",
       "      <td>43</td>\n",
       "      <td>7</td>\n",
       "    </tr>\n",
       "    <tr>\n",
       "      <th>b</th>\n",
       "      <td>21</td>\n",
       "      <td>92</td>\n",
       "      <td>28</td>\n",
       "      <td>60</td>\n",
       "      <td>78</td>\n",
       "      <td>98</td>\n",
       "      <td>21</td>\n",
       "    </tr>\n",
       "    <tr>\n",
       "      <th>c</th>\n",
       "      <td>94</td>\n",
       "      <td>98</td>\n",
       "      <td>62</td>\n",
       "      <td>32</td>\n",
       "      <td>78</td>\n",
       "      <td>68</td>\n",
       "      <td>1</td>\n",
       "    </tr>\n",
       "    <tr>\n",
       "      <th>d</th>\n",
       "      <td>44</td>\n",
       "      <td>93</td>\n",
       "      <td>34</td>\n",
       "      <td>33</td>\n",
       "      <td>22</td>\n",
       "      <td>70</td>\n",
       "      <td>75</td>\n",
       "    </tr>\n",
       "    <tr>\n",
       "      <th>g</th>\n",
       "      <td>84</td>\n",
       "      <td>39</td>\n",
       "      <td>3</td>\n",
       "      <td>47</td>\n",
       "      <td>55</td>\n",
       "      <td>42</td>\n",
       "      <td>94</td>\n",
       "    </tr>\n",
       "  </tbody>\n",
       "</table>\n",
       "</div>"
      ],
      "text/plain": [
       "   Russia  Usa  Ukraine  Germany  Italia  Kazahstan  Greece\n",
       "a      73   97       60       75      17         43       7\n",
       "b      21   92       28       60      78         98      21\n",
       "c      94   98       62       32      78         68       1\n",
       "d      44   93       34       33      22         70      75\n",
       "g      84   39        3       47      55         42      94"
      ]
     },
     "execution_count": 12,
     "metadata": {},
     "output_type": "execute_result"
    }
   ],
   "source": [
    "df\n"
   ]
  },
  {
   "cell_type": "code",
   "execution_count": null,
   "id": "1aae79db",
   "metadata": {},
   "outputs": [],
   "source": []
  }
 ],
 "metadata": {
  "kernelspec": {
   "display_name": "Python 3 (ipykernel)",
   "language": "python",
   "name": "python3"
  },
  "language_info": {
   "codemirror_mode": {
    "name": "ipython",
    "version": 3
   },
   "file_extension": ".py",
   "mimetype": "text/x-python",
   "name": "python",
   "nbconvert_exporter": "python",
   "pygments_lexer": "ipython3",
   "version": "3.9.7"
  }
 },
 "nbformat": 4,
 "nbformat_minor": 5
}
